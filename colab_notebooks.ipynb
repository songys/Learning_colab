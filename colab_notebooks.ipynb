{
  "nbformat": 4,
  "nbformat_minor": 0,
  "metadata": {
    "colab": {
      "name": "colab_notebooks.ipynb",
      "provenance": [],
      "collapsed_sections": [],
      "authorship_tag": "ABX9TyNQawAYx7ozVPVNPx8YFPCH",
      "include_colab_link": true
    },
    "kernelspec": {
      "name": "python3",
      "display_name": "Python 3"
    }
  },
  "cells": [
    {
      "cell_type": "markdown",
      "metadata": {
        "id": "view-in-github",
        "colab_type": "text"
      },
      "source": [
        "<a href=\"https://colab.research.google.com/github/songys/Learning_colab/blob/master/colab_notebooks.ipynb\" target=\"_parent\"><img src=\"https://colab.research.google.com/assets/colab-badge.svg\" alt=\"Open In Colab\"/></a>"
      ]
    },
    {
      "cell_type": "markdown",
      "metadata": {
        "id": "Y0ddhlf1p6Mm",
        "colab_type": "text"
      },
      "source": [
        "# 깃헙에서 파이썬 사용"
      ]
    },
    {
      "cell_type": "code",
      "metadata": {
        "id": "3jVFglp5qTiq",
        "colab_type": "code",
        "outputId": "7d930e36-774a-4b4e-e793-318f4f06d771",
        "colab": {
          "base_uri": "https://localhost:8080/",
          "height": 34
        }
      },
      "source": [
        "2+2\n"
      ],
      "execution_count": 0,
      "outputs": [
        {
          "output_type": "execute_result",
          "data": {
            "text/plain": [
              "4"
            ]
          },
          "metadata": {
            "tags": []
          },
          "execution_count": 1
        }
      ]
    },
    {
      "cell_type": "code",
      "metadata": {
        "id": "-EKSvt-SqTuh",
        "colab_type": "code",
        "outputId": "d7716583-f5ca-4bc5-939c-5e09aa9cdb5c",
        "colab": {
          "base_uri": "https://localhost:8080/",
          "height": 34
        }
      },
      "source": [
        "print(\"hello world\")"
      ],
      "execution_count": 0,
      "outputs": [
        {
          "output_type": "stream",
          "text": [
            "hello world\n"
          ],
          "name": "stdout"
        }
      ]
    },
    {
      "cell_type": "markdown",
      "metadata": {
        "id": "EM3PZCp6p9C8",
        "colab_type": "text"
      },
      "source": [
        "# 데이터를 입출력하는 방법\n",
        "\n"
      ]
    },
    {
      "cell_type": "markdown",
      "metadata": {
        "id": "EgfvZjFfjPZr",
        "colab_type": "text"
      },
      "source": [
        "Local 컴퓨터에서 파일 또는 데이터 업로드"
      ]
    },
    {
      "cell_type": "markdown",
      "metadata": {
        "id": "7mKSvl0b4JaW",
        "colab_type": "text"
      },
      "source": [
        "![upload](http://drive.google.com/uc?export=view&id=1uLeWDzb8ToHMFVbb15z6uTriosLj20a5)"
      ]
    },
    {
      "cell_type": "markdown",
      "metadata": {
        "id": "c2r6y_5MGG8j",
        "colab_type": "text"
      },
      "source": [
        "# 구글 드라이브에서 데이터 입력"
      ]
    },
    {
      "cell_type": "code",
      "metadata": {
        "id": "H1EHxaR4dkDG",
        "colab_type": "code",
        "colab": {}
      },
      "source": [
        "from google.colab import drive\n",
        "drive.mount('/content/drive')"
      ],
      "execution_count": 0,
      "outputs": []
    },
    {
      "cell_type": "code",
      "metadata": {
        "id": "LdEnjJJ8Xc9q",
        "colab_type": "code",
        "outputId": "773ae588-5afc-40fe-f46a-6668c253ae5c",
        "colab": {
          "base_uri": "https://localhost:8080/",
          "height": 34
        }
      },
      "source": [
        "with open('/content/drive/My Drive/foo.txt', 'w') as f:\n",
        "  f.write('Hello Google Drive!')\n",
        "!cat /content/drive/My\\ Drive/foo.txt"
      ],
      "execution_count": 0,
      "outputs": [
        {
          "output_type": "stream",
          "text": [
            "Hello Google Drive!"
          ],
          "name": "stdout"
        }
      ]
    },
    {
      "cell_type": "code",
      "metadata": {
        "id": "srmFNrl1bx72",
        "colab_type": "code",
        "outputId": "e35dc25b-011c-4596-9ffa-94ea3183857c",
        "colab": {
          "base_uri": "https://localhost:8080/",
          "height": 34
        }
      },
      "source": [
        "!ls"
      ],
      "execution_count": 0,
      "outputs": [
        {
          "output_type": "stream",
          "text": [
            "drive  sample_data\n"
          ],
          "name": "stdout"
        }
      ]
    },
    {
      "cell_type": "markdown",
      "metadata": {
        "id": "jLcmj94z6v5E",
        "colab_type": "text"
      },
      "source": [
        "# colab과 github 연동"
      ]
    },
    {
      "cell_type": "markdown",
      "metadata": {
        "id": "dZXv_W4htQHZ",
        "colab_type": "text"
      },
      "source": [
        "![image](http://drive.google.com/uc?export=view&id=11wDp4QYpk1U1xAzBg9T32oBSCPWN_Q6H)"
      ]
    },
    {
      "cell_type": "markdown",
      "metadata": {
        "id": "h_kLTkKKF1bK",
        "colab_type": "text"
      },
      "source": [
        "Gitgub에 저장할 레파지토리 선택 "
      ]
    },
    {
      "cell_type": "markdown",
      "metadata": {
        "id": "atAONuTu6efR",
        "colab_type": "text"
      },
      "source": [
        "![대체 텍스트](http://drive.google.com/uc?export=view&id=11LfP81mrS3i6cGx1PK-LYzowMFQM6wDF)"
      ]
    },
    {
      "cell_type": "markdown",
      "metadata": {
        "id": "q1Um4U1N4Lpo",
        "colab_type": "text"
      },
      "source": [
        "# GPU 활용"
      ]
    },
    {
      "cell_type": "markdown",
      "metadata": {
        "id": "-6wTWqa24Scn",
        "colab_type": "text"
      },
      "source": [
        "![image](http://drive.google.com/uc?export=view&id=1w9Eg5gYnkgUCyOEgy2eFUDoYUE4plhbI)"
      ]
    },
    {
      "cell_type": "code",
      "metadata": {
        "id": "D9mxIdyFnKDJ",
        "colab_type": "code",
        "colab": {}
      },
      "source": [
        ""
      ],
      "execution_count": 0,
      "outputs": []
    },
    {
      "cell_type": "markdown",
      "metadata": {
        "id": "yxxq-Tvdiwh8",
        "colab_type": "text"
      },
      "source": [
        "# 단축키"
      ]
    },
    {
      "cell_type": "markdown",
      "metadata": {
        "id": "9xcng0OTINwC",
        "colab_type": "text"
      },
      "source": [
        "# 참고 링크 \n",
        "\n",
        "\n",
        "colab \n",
        "https://www.youtube.com/watch?v=inN8seMm7UI&list=PLsrGhjaanNT90z6dWB-7fCg4Woi1Rrl2G&index=2\n",
        "\n",
        "\n",
        "\n",
        "\n",
        "Colaboratory에 오신 것을 환영합니다 \n",
        "https://colab.research.google.com/notebooks/intro.ipynb"
      ]
    }
  ]
}